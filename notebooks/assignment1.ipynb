{
 "cells": [
  {
   "cell_type": "markdown",
   "id": "992127cf",
   "metadata": {},
   "source": [
    "# Assignment 1: Image Classification with CNNs"
   ]
  },
  {
   "cell_type": "markdown",
   "id": "508d57a0",
   "metadata": {},
   "source": [
    "## 1. Introduction  \n",
    "- Explain the chosen dataset and problem  \n",
    "- Describe the challenges "
   ]
  },
  {
   "cell_type": "markdown",
   "id": "265a1b0d",
   "metadata": {},
   "source": [
    "## 2. Dataset Preparation  \n",
    "- Load and preprocess the data  \n",
    "- Visualize sample images "
   ]
  },
  {
   "cell_type": "markdown",
   "id": "01fcb278",
   "metadata": {},
   "source": [
    "## 3. Model Architecture  \n",
    "- Define your CNN model  \n",
    "- Justify your design choices "
   ]
  },
  {
   "cell_type": "markdown",
   "id": "e94a788d",
   "metadata": {},
   "source": [
    "## 4. Training  \n",
    "- Explain hyperparameters and training process  \n",
    "- Show training curves "
   ]
  },
  {
   "cell_type": "markdown",
   "id": "eefb259b",
   "metadata": {},
   "source": [
    "## 5. Evaluation  \n",
    "- Present success metric, misclassifications etc. "
   ]
  },
  {
   "cell_type": "markdown",
   "id": "db25ff10",
   "metadata": {},
   "source": [
    "## 6. Conclusion & Future Work  \n",
    "- Summarize key findings  \n",
    "- Suggest potential improvements "
   ]
  }
 ],
 "metadata": {
  "language_info": {
   "name": "python"
  }
 },
 "nbformat": 4,
 "nbformat_minor": 5
}
