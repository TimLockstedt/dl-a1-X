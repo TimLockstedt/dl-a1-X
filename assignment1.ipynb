{
  "cells": [
    {
      "cell_type": "markdown",
      "metadata": {
        "id": "view-in-github",
        "colab_type": "text"
      },
      "source": [
        "<a href=\"https://colab.research.google.com/github/TimLockstedt/dl-a1-X/blob/main/assignment1.ipynb\" target=\"_parent\"><img src=\"https://colab.research.google.com/assets/colab-badge.svg\" alt=\"Open In Colab\"/></a>"
      ]
    },
    {
      "cell_type": "markdown",
      "id": "992127cf",
      "metadata": {
        "id": "992127cf"
      },
      "source": [
        "# Assignment 1: Image Classification with CNNs"
      ]
    },
    {
      "cell_type": "markdown",
      "id": "508d57a0",
      "metadata": {
        "id": "508d57a0"
      },
      "source": [
        "## 1. Introduction  \n",
        "- Explain the chosen dataset and problem  \n",
        "- Describe the challenges"
      ]
    },
    {
      "cell_type": "markdown",
      "id": "d0eb9a93",
      "metadata": {
        "id": "d0eb9a93"
      },
      "source": [
        "- The chosen dataset is the \"Oxford-IIIT Pet\" dataset. The problem is differentiating between cats and dogs and specifically determine the breed of the cat or dog within the image.\n"
      ]
    },
    {
      "cell_type": "markdown",
      "id": "265a1b0d",
      "metadata": {
        "id": "265a1b0d"
      },
      "source": [
        "## 2. Dataset Preparation  \n",
        "- Load and preprocess the data  \n",
        "- Visualize sample images"
      ]
    },
    {
      "cell_type": "code",
      "execution_count": 1,
      "id": "e1d34f73",
      "metadata": {
        "vscode": {
          "languageId": "plaintext"
        },
        "id": "e1d34f73"
      },
      "outputs": [],
      "source": [
        "import numpy as np\n",
        "import matplotlib.pyplot as plt\n",
        "\n",
        "import torch\n",
        "import torchvision\n",
        "import torchvision.transforms as transforms\n",
        "import torch.nn as nn\n",
        "import torch.nn.functional as F\n",
        "from torch.autograd import Variable"
      ]
    },
    {
      "cell_type": "code",
      "source": [
        "# Prepare a normalize transform.\n",
        "transform = transforms.Compose([torchvision.transforms.ToTensor(), torchvision.transforms.Normalize((0.5,), (0.5,))])\n",
        "\n",
        "# Load and transform the train set.\n",
        "trainset = torchvision.datasets.OxfordIIITPet(root='./data', split = \"test\", download=True, transform=transform)\n",
        "# Manage the train set within a dataloader.\n",
        "trainloader = torch.utils.data.DataLoader(trainset, batch_size=64, shuffle=True, num_workers=2)\n",
        "\n",
        "# Load and transform the test set.\n",
        "testset = torchvision.datasets.OxfordIIITPet(root='./data', split = \"trainval\", download=True, transform=transform)\n",
        "# Manage the test set within a dataloader.\n",
        "testloader = torch.utils.data.DataLoader(testset, batch_size=32, shuffle=False, num_workers=2)"
      ],
      "metadata": {
        "id": "40kffPoE8F9w"
      },
      "id": "40kffPoE8F9w",
      "execution_count": 13,
      "outputs": []
    },
    {
      "cell_type": "code",
      "source": [
        "trainloader.dataset"
      ],
      "metadata": {
        "colab": {
          "base_uri": "https://localhost:8080/"
        },
        "id": "fc5uxjZQ--HS",
        "outputId": "f81a98d1-cf91-4743-8bda-d070591694a0"
      },
      "id": "fc5uxjZQ--HS",
      "execution_count": 23,
      "outputs": [
        {
          "output_type": "execute_result",
          "data": {
            "text/plain": [
              "Dataset OxfordIIITPet\n",
              "    Number of datapoints: 3669\n",
              "    Root location: ./data\n",
              "    StandardTransform\n",
              "Transform: Compose(\n",
              "               ToTensor()\n",
              "               Normalize(mean=(0.5,), std=(0.5,))\n",
              "           )"
            ]
          },
          "metadata": {},
          "execution_count": 23
        }
      ]
    },
    {
      "cell_type": "code",
      "source": [
        "testloader.dataset"
      ],
      "metadata": {
        "colab": {
          "base_uri": "https://localhost:8080/"
        },
        "id": "LAILu71BDkXJ",
        "outputId": "4731c9fa-6292-45eb-d9a4-7cd940e9b2f0"
      },
      "id": "LAILu71BDkXJ",
      "execution_count": 24,
      "outputs": [
        {
          "output_type": "execute_result",
          "data": {
            "text/plain": [
              "Dataset OxfordIIITPet\n",
              "    Number of datapoints: 3680\n",
              "    Root location: ./data\n",
              "    StandardTransform\n",
              "Transform: Compose(\n",
              "               ToTensor()\n",
              "               Normalize(mean=(0.5,), std=(0.5,))\n",
              "           )"
            ]
          },
          "metadata": {},
          "execution_count": 24
        }
      ]
    },
    {
      "cell_type": "markdown",
      "id": "01fcb278",
      "metadata": {
        "id": "01fcb278"
      },
      "source": [
        "## 3. Model Architecture  \n",
        "- Define your CNN model  \n",
        "- Justify your design choices"
      ]
    },
    {
      "cell_type": "markdown",
      "id": "e94a788d",
      "metadata": {
        "id": "e94a788d"
      },
      "source": [
        "## 4. Training  \n",
        "- Explain hyperparameters and training process  \n",
        "- Show training curves"
      ]
    },
    {
      "cell_type": "markdown",
      "id": "eefb259b",
      "metadata": {
        "id": "eefb259b"
      },
      "source": [
        "## 5. Evaluation  \n",
        "- Present success metric, misclassifications etc."
      ]
    },
    {
      "cell_type": "markdown",
      "id": "db25ff10",
      "metadata": {
        "id": "db25ff10"
      },
      "source": [
        "## 6. Conclusion & Future Work  \n",
        "- Summarize key findings  \n",
        "- Suggest potential improvements"
      ]
    }
  ],
  "metadata": {
    "language_info": {
      "name": "python"
    },
    "colab": {
      "provenance": [],
      "gpuType": "T4",
      "include_colab_link": true
    },
    "kernelspec": {
      "name": "python3",
      "display_name": "Python 3"
    },
    "accelerator": "GPU"
  },
  "nbformat": 4,
  "nbformat_minor": 5
}